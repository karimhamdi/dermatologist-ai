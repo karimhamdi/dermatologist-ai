{
 "cells": [
  {
   "cell_type": "code",
   "execution_count": null,
   "metadata": {},
   "outputs": [],
   "source": [
    "import os\n",
    "import numpy as np\n",
    "import torch\n",
    "\n",
    "import torchvision\n",
    "from torchvision import datasets, models, transforms\n",
    "import matplotlib.pyplot as plt\n",
    "\n",
    "import torch.functional as F\n",
    "import torch.nn as nn\n",
    "\n",
    "import torch.optim as optim\n",
    "\n",
    "\n",
    "%matplotlib inline                               \n"
   ]
  },
  {
   "cell_type": "code",
   "execution_count": null,
   "metadata": {},
   "outputs": [],
   "source": [
    "# check if CUDA is available\n",
    "train_on_gpu = torch.cuda.is_available()\n",
    "\n",
    "if not train_on_gpu:\n",
    "    print('CUDA is not available.  Training on CPU ...')\n",
    "else:\n",
    "    print('CUDA is available!  Training on GPU ...')"
   ]
  },
  {
   "cell_type": "code",
   "execution_count": null,
   "metadata": {},
   "outputs": [],
   "source": [
    "batch_size = 8\n",
    "workers = 0\n",
    "data_dir = 'data/'\n",
    "train_dir = os.path.join(data_dir, 'train/')\n",
    "valid_dir = os.path.join(data_dir, 'valid/')\n",
    "test_dir = os.path.join(data_dir, 'test/')\n",
    "\n",
    "data_transform = transforms.Compose([transforms.Resize(512),\n",
    "                                     transforms.CenterCrop(512),\n",
    "                                     transforms.ToTensor(),\n",
    "                                     transforms.Normalize(mean=[0.485, 0.456, 0.406],\n",
    "                                                          std=[0.229, 0.224, 0.225])\n",
    "                                    ])\n",
    "\n",
    "train_data = datasets.ImageFolder(train_dir, data_transform)\n",
    "valid_data = datasets.ImageFolder(valid_dir, data_transform)\n",
    "test_data = datasets.ImageFolder(test_dir, data_transform)\n",
    "\n",
    "\n",
    "train_loader = torch.utils.data.DataLoader(train_data, batch_size=batch_size, num_workers=workers, shuffle=True)\n",
    "valid_loader = torch.utils.data.DataLoader(valid_data, batch_size=batch_size, num_workers=workers, shuffle=True)\n",
    "test_loader = torch.utils.data.DataLoader(test_data, batch_size=batch_size, num_workers=workers, shuffle=True)\n"
   ]
  },
  {
   "cell_type": "code",
   "execution_count": null,
   "metadata": {},
   "outputs": [],
   "source": [
    "# Visualize some sample data\n",
    "\n",
    "classes = train_data.classes\n",
    "\n",
    "# obtain one batch of training images\n",
    "dataiter = iter(train_loader)\n",
    "images, labels = dataiter.next()\n",
    "images = images.numpy() # convert images to numpy for display\n",
    "\n",
    "# plot the images in the batch, along with the corresponding labels\n",
    "fig = plt.figure(figsize=(25, 4))\n",
    "for idx in np.arange(batch_size):\n",
    "    ax = fig.add_subplot(2, batch_size/2, idx+1, xticks=[], yticks=[])\n",
    "    image = images[idx]\n",
    "    image = image.transpose((1, 2, 0))\n",
    "    image = np.array([0.229, 0.224, 0.225]) * image + np.array([0.485, 0.456, 0.406])\n",
    "    plt.imshow(image)\n",
    "    ax.set_title(classes[labels[idx]])"
   ]
  },
  {
   "cell_type": "code",
   "execution_count": null,
   "metadata": {},
   "outputs": [],
   "source": [
    "vgg16 = models.vgg16(pretrained=True)"
   ]
  },
  {
   "cell_type": "code",
   "execution_count": null,
   "metadata": {},
   "outputs": [],
   "source": [
    "karims_model = vgg16\n",
    "karims_model.classifier[-1] = nn.Linear(4096, 3)"
   ]
  },
  {
   "cell_type": "code",
   "execution_count": null,
   "metadata": {},
   "outputs": [],
   "source": [
    "# specify loss function (categorical cross-entropy)\n",
    "criterion = nn.CrossEntropyLoss()\n",
    "\n",
    "# specify optimizer (stochastic gradient descent) and learning rate = 0.001\n",
    "optimizer = optim.Adam(vgg16.classifier.parameters(), lr=0.001)"
   ]
  },
  {
   "cell_type": "code",
   "execution_count": null,
   "metadata": {},
   "outputs": [],
   "source": [
    "if train_on_gpu:\n",
    "    karims_model.load_state_dict(torch.load(\"pretrained_vgg16_train_all_parameters_skin_cancer.pt\", map_location=torch.device('gpu')))\n",
    "else:\n",
    "    karims_model.load_state_dict(torch.load(\"pretrained_vgg16_train_all_parameters_skin_cancer.pt\", map_location=torch.device('cpu')))"
   ]
  },
  {
   "cell_type": "code",
   "execution_count": null,
   "metadata": {},
   "outputs": [],
   "source": [
    "epochs = 10 \n",
    "valid_loss_min = 0\n",
    "save_path = 'pretrained_vgg16_train_all_parameters_skin_cancer.pt'\n",
    "\n",
    "if train_on_gpu:\n",
    "    karims_model = karims_model.cuda()\n",
    "\n",
    "for i, (data, label) in enumerate(valid_loader):\n",
    "    torch.cuda.empty_cache()\n",
    "    if train_on_gpu:\n",
    "        data, label = data.cuda(), label.cuda()\n",
    "    output = karims_model(data)\n",
    "    loss = criterion(output, label)\n",
    "    valid_loss_min += (loss.item() - valid_loss_min) / (i+1)\n",
    "    print(\"*\", end=\"\")\n",
    "print(f\"Setting valid_loss_min at {valid_loss_min:.6f}\")\n",
    "\n",
    "\n",
    "for e in range(1, epochs+1):\n",
    "    train_loss = 0.\n",
    "    valid_loss = 0.\n",
    "    karims_model.train()\n",
    "    print(\"Training\")\n",
    "    for i, (data, label) in enumerate(train_loader):\n",
    "        optimizer.zero_grad()\n",
    "        if train_on_gpu:\n",
    "            data, label = data.cuda(), label.cuda()\n",
    "        output = karims_model(data)\n",
    "        loss = criterion(output, label)\n",
    "        loss.backward()\n",
    "        optimizer.step\n",
    "        train_loss += (loss.item() - train_loss)/(i+1)\n",
    "        if i % 50 == 0:\n",
    "            print(f\"\\n Train Loss: {train_loss}\")\n",
    "#            print(f\"mem-alloc: {torch.cuda.memory_allocated()/1024/1024:.6f}, max_mem: {torch.cuda.max_memory_allocated()/1024/1024:.6f}, cached: {torch.cuda.memory_cached()/1024/1024:.6f}, max_cached:{torch.cuda.max_memory_cached()/1024/1024:.6f}\")\n",
    "        print(\".\", end=\"\")\n",
    "#    print(f\"\\n\\nmem-alloc: {torch.cuda.memory_allocated()/1024/1024:.6f}, max_mem: {torch.cuda.max_memory_allocated()/1024/1024:.6f}, cached: {torch.cuda.memory_cached()/1024/1024:.6f}, max_cached:{torch.cuda.max_memory_cached()/1024/1024:.6f}\\n\")\n",
    "    torch.cuda.empty_cache()\n",
    "    karims_model.eval()\n",
    "    print(\"Validation\")\n",
    "    for i, (data, label) in enumerate(valid_loader):\n",
    "#        print(f\"\\nmem-alloc: {torch.cuda.memory_allocated()/1024/1024:.6f}, max_mem: {torch.cuda.max_memory_allocated()/1024/1024:.6f}, cached: {torch.cuda.memory_cached()/1024/1024:.6f}, max_cached:{torch.cuda.max_memory_cached()/1024/1024:.6f}\")\n",
    "        torch.cuda.empty_cache()\n",
    "        if train_on_gpu:\n",
    "            data, label = data.cuda(), label.cuda()\n",
    "        output = karims_model(data)\n",
    "        loss = criterion(output, label)\n",
    "        valid_loss += (loss.item() - valid_loss) / (i+1)\n",
    "        print(\"*\", end=\"\")\n",
    "    print(f\"\\n\\nEpoch: {e}\\t Train loss: {train_loss:.6f}\\t Validation loss: {valid_loss:.6f}\")\n",
    "        \n",
    "    if valid_loss < valid_loss_min:\n",
    "        torch.save(karims_model.state_dict(), save_path)\n",
    "        valid_loss_min = valid_loss\n",
    "        print(\"saved at {:.6f}\".format(valid_loss_min))\n",
    "\n",
    "    else:\n",
    "        print(\"not saved, still at {:.6f}\".format(valid_loss_min))"
   ]
  },
  {
   "cell_type": "code",
   "execution_count": null,
   "metadata": {},
   "outputs": [],
   "source": [
    "torch.cuda.empty_cache()\n",
    "1/0"
   ]
  },
  {
   "cell_type": "code",
   "execution_count": null,
   "metadata": {},
   "outputs": [],
   "source": [
    "torch.cuda.memory_allocated()/1024/1024"
   ]
  },
  {
   "cell_type": "code",
   "execution_count": null,
   "metadata": {},
   "outputs": [],
   "source": [
    "torch.cuda.max_memory_allocated()/1024/1024"
   ]
  },
  {
   "cell_type": "code",
   "execution_count": null,
   "metadata": {},
   "outputs": [],
   "source": [
    "torch.cuda.memory_cached()/1024/1024"
   ]
  },
  {
   "cell_type": "code",
   "execution_count": null,
   "metadata": {},
   "outputs": [],
   "source": [
    "torch.cuda.max_memory_cached()/1024/1024"
   ]
  },
  {
   "cell_type": "code",
   "execution_count": null,
   "metadata": {},
   "outputs": [],
   "source": [
    "torch.cuda.memory_reserved()/1024/1024"
   ]
  }
 ],
 "metadata": {
  "kernelspec": {
   "display_name": "Python 3",
   "language": "python",
   "name": "python3"
  },
  "language_info": {
   "codemirror_mode": {
    "name": "ipython",
    "version": 3
   },
   "file_extension": ".py",
   "mimetype": "text/x-python",
   "name": "python",
   "nbconvert_exporter": "python",
   "pygments_lexer": "ipython3",
   "version": "3.7.7"
  }
 },
 "nbformat": 4,
 "nbformat_minor": 2
}
